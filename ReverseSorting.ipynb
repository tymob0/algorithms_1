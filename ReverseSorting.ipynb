{
 "cells": [
  {
   "cell_type": "markdown",
   "id": "363cab4a",
   "metadata": {},
   "source": [
    "# Algorithms 1. Week 1. Reverse sorting.\n",
    "### Bohdan Tymofieienko, B. S. \n",
    "#### btymofieienko@student.fontys.nl\n",
    "##### 13 Feb 2022"
   ]
  },
  {
   "cell_type": "markdown",
   "id": "f40abd3a",
   "metadata": {},
   "source": [
    "## Table of Contents\n",
    "\n",
    "* [1. Sorting algorithm](#chapter1)\n",
    "    * [1.1 Reverse function](#section_1_1)\n",
    "    * [1.2 Alternative implementation of reverse function](#section_1_2)\n",
    "    * [1.3 FindMax function](#section_1_3)\n",
    "    * [1.4 Sorting](#section_1_4)    \n",
    "* [2. Complexity analysis](#chapter2)\n",
    "    * [2.1 Assuming reverse is O(1)](#section_2_1)\n",
    "    * [2.2 Actual complexity](#section_2_2)\n",
    "        * [2.2.1 Complexity of *reverse(i)*](#section_2_2_1)\n",
    "        * [2.2.2 Re-evaluation of algorithm complexity](#section_2_2_2)\n",
    "* [3. Performance measurements](#chapter3)    \n",
    "* [4. Testing](#chapter4)\n",
    "    * [4.1 Test strategy](#section_4_1)\n",
    "    * [4.2 Reverse function tests](#section_4_2)    \n",
    "    * [4.3 FindMax function tests](#section_4_3)  \n",
    "    * [4.3 Sorting function tests](#section_4_4) \n"
   ]
  },
  {
   "cell_type": "markdown",
   "id": "d4d84a0e",
   "metadata": {},
   "source": [
    "## 1. Sorting algorithm <a class=\"anchor\" id=\"chapter1\"></a>"
   ]
  },
  {
   "cell_type": "markdown",
   "id": "f276945a",
   "metadata": {},
   "source": [
    "### 1.1 Reverse the list from $S_0$ to $S_n$ <a class=\"anchor\" id=\"section_1_1\"></a>\n",
    "\n",
    "Slice the list starting at some $i$ and going backwards to $0$. Add the reminder of the list to the result."
   ]
  },
  {
   "cell_type": "code",
   "execution_count": 79,
   "id": "f9215a38",
   "metadata": {},
   "outputs": [],
   "source": [
    "def reverse(list, i):\n",
    "        return list[i::-1] + list[i+1:]"
   ]
  },
  {
   "cell_type": "markdown",
   "id": "3db20beb",
   "metadata": {},
   "source": [
    "### 1.2 Altertnative implementation of  *reverse* function <a class=\"anchor\" id=\"section_1_2\"></a>\n",
    "\n",
    "In the previous section function reverse is implemented with the use of so-called slicing. From my own research this is very \"pythonic\" way of reversing the list. However,to practice more I decided to make this alternative implementation which is more manual in a sense.   "
   ]
  },
  {
   "cell_type": "code",
   "execution_count": 80,
   "id": "226d2a49",
   "metadata": {},
   "outputs": [],
   "source": [
    "def reverse_(list, until):\n",
    "        i = 0\n",
    "        j = until\n",
    "        while i<j:\n",
    "            list[i], list[j] = list[j], list[i]\n",
    "            i+=1\n",
    "            j-=1\n",
    "            \n",
    "        return list"
   ]
  },
  {
   "cell_type": "markdown",
   "id": "c627b30d",
   "metadata": {},
   "source": [
    "### 1.3 Find the maximum value in the list from from $S_0$ to $S_n$ <a class=\"anchor\" id=\"section_1_3\"></a>\n",
    "\n",
    "Iterate an array to find the largest element in a given range.\n",
    "Start at index $0$ and assume the maximum element has an index $0$.\n",
    "Until given $i$ repeat the following:\n",
    "\n",
    "<ol>\n",
    "<li>Compare current element $S[i]$ to $S[MAX]$</li>\n",
    "<li>If $S[i]$ is larger, then let's assume $S[i]$ is the maximum itself.</li>\n",
    "<li>Replace the maximum with i.</li>\n",
    "</ol>\n"
   ]
  },
  {
   "cell_type": "code",
   "execution_count": 81,
   "id": "fd147b77",
   "metadata": {},
   "outputs": [],
   "source": [
    "def findMax(list, i):\n",
    "    maximum = 0\n",
    "    #Add 1 to i to include i in the range.\n",
    "    for j in range(0, i+1):\n",
    "        if list[j] > list[maximum]:\n",
    "            maximum = j\n",
    "    return maximum"
   ]
  },
  {
   "cell_type": "markdown",
   "id": "fc2ca23e",
   "metadata": {},
   "source": [
    "### 1.3 Sorting algorithm <a class=\"anchor\" id=\"section_1_3\"></a>\n",
    "\n",
    "By iterating the list backwards we sort the list from element $S_n$ to $S_0$.\n",
    "Each iteration we repeat the following:\n",
    "\n",
    "<ol>\n",
    "<li>Find the index of the MAX value.</li>\n",
    "<li>Reverse the list until that index. Let's name it 'resulted list'.</li>\n",
    "<li>Reverse the resulted list so that largest element is now placed 'correctly'.</li>\n",
    "</ol>\n",
    "\n",
    "By doing that each iteration we first move the largest element (largest in a **given range**) to the beginning of the list (by reversing the list from $0$ to index of that largest element). And then we simply reverse the whole list again so that the largest element in a certain range is at the end of the list, at it's 'correct place'. Range decreases as we are going backwords and thus elements that are already sorted, meaning those at the end of the list, are not moved anywhere anymore. To avoid creation of auxiliary list result of reverse function that puts the largest element in front is passed to reverse function again to make it the last element."
   ]
  },
  {
   "cell_type": "code",
   "execution_count": 82,
   "id": "d36ab527",
   "metadata": {},
   "outputs": [],
   "source": [
    "def sort(list):\n",
    "    #Subtract 1 from len(list) since len returns a natural number.\n",
    "    for i in range(len(list)-1, 0, -1):\n",
    "        max_i = findMax(list,i)\n",
    "        #Except if element is in 'correct' place already, do the following\n",
    "        if max_i != i:\n",
    "            #largest element is now placed 'correctly'.\n",
    "            list = reverse(reverse(list, max_i),i)\n",
    "    return list"
   ]
  },
  {
   "cell_type": "markdown",
   "id": "37d8c438",
   "metadata": {},
   "source": [
    "## 2. Complexity analysis <a class=\"anchor\" id=\"chapter2\"></a>"
   ]
  },
  {
   "cell_type": "markdown",
   "id": "4088837a",
   "metadata": {},
   "source": [
    "### 2.1 Assuming reverse is O(1) <a class=\"anchor\" id=\"section_2_1\"></a>"
   ]
  },
  {
   "cell_type": "markdown",
   "id": "797710e3",
   "metadata": {},
   "source": [
    "To evalute the complexity of an algorithm we can count the amount of loops. First of all there is a **for** loop to iterate an array. It takes in general $(n - 1)$ iterations to sort the list. Loops can be aproximated as O(n).  Additionally to that, almost each iteration function *reverse* is called. Assuming the complexity *reverse* is $O(1)$ we can ignore it's effect on the time complexity since it is insignificantly small. However since there is another loop in a function *findMax* which can be evaluated as O(n) the result can be computed as following:\n",
    "$$\n",
    "  O(n) \\times O(n) = O(n^2)\n",
    "$$\n",
    "\n",
    "We may approximate it as a worst time complexity, if *reverse* is $O(1)$."
   ]
  },
  {
   "cell_type": "markdown",
   "id": "f7e02c06",
   "metadata": {},
   "source": [
    "### 2.2 Actual complexity <a class=\"anchor\" id=\"section_2_2\"></a>"
   ]
  },
  {
   "cell_type": "markdown",
   "id": "dada68ed",
   "metadata": {},
   "source": [
    "#### 2.2.1 Complexity of *reverse(i)* <a class=\"anchor\" id=\"section_2_2_1\"></a>"
   ]
  },
  {
   "cell_type": "markdown",
   "id": "fee5e3df",
   "metadata": {},
   "source": [
    "\n",
    "However evaluating time complexity of *reverse* function it is easy to notice that it's complexity is far from $O(1)$. Since I am using embedded capabilities of python language (slicing), it is complicated to visually evaluate the complexity. For example counting loops method is not working in this case. However, since we know that time complexity of slice operation in Python is $O(k)$, $k$ - parameter passed, we can evaluate complexity of the whole reversing operation as following:\n",
    "$$\n",
    "  O(k) + O(n-k) = \\\\\n",
    "  O(k + (n - k)) = \\\\\n",
    "  O(n + k - k) = \\\\\n",
    "  O(n)\n",
    "$$\n",
    "\n",
    "Which was fairly obvious since we split the array in two parts $k_1$, $k_2$. One part is reversed and another part is just added to the result. Sizes of those part if added together equals to $n$. Consequently, complexity of *reverse* function is $O(n)$"
   ]
  },
  {
   "cell_type": "markdown",
   "id": "1c66d8ad",
   "metadata": {},
   "source": [
    "#### 2.2.2 Re-evaluation of algorithm complexity <a class=\"anchor\" id=\"section_2_2_2\"></a>"
   ]
  },
  {
   "cell_type": "markdown",
   "id": "5273cde6",
   "metadata": {},
   "source": [
    "As a result we have to re-evaluate the complexity of the whole algorithm. Since there complexity of the *reverse* function is $O(n)$ and it is called almost every iteration time complexity is evaluated as following:\n",
    "$$\n",
    "  O(n) \\times O(n) = O(n^2)\n",
    "$$\n",
    "As was mentioned in the previous paragraph that is the worst time complexity."
   ]
  },
  {
   "cell_type": "markdown",
   "id": "a679f75c",
   "metadata": {},
   "source": [
    "## 3. Performance measurements <a class=\"anchor\" id=\"chapter3\"></a>"
   ]
  },
  {
   "cell_type": "markdown",
   "id": "6dff725f",
   "metadata": {},
   "source": [
    "Let's use %timeit magic command to measure the performance. "
   ]
  },
  {
   "cell_type": "code",
   "execution_count": 83,
   "id": "e710e771",
   "metadata": {},
   "outputs": [],
   "source": [
    "import random"
   ]
  },
  {
   "cell_type": "code",
   "execution_count": 84,
   "id": "d76ffadb",
   "metadata": {},
   "outputs": [
    {
     "name": "stdout",
     "output_type": "stream",
     "text": [
      "418 µs ± 7.49 µs per loop (mean ± std. dev. of 7 runs, 1000 loops each)\n"
     ]
    }
   ],
   "source": [
    "list = [random.random() for i in range(100)]\n",
    "%timeit sort(list)"
   ]
  },
  {
   "cell_type": "code",
   "execution_count": 85,
   "id": "9aee7468",
   "metadata": {},
   "outputs": [
    {
     "name": "stdout",
     "output_type": "stream",
     "text": [
      "8.61 ms ± 254 µs per loop (mean ± std. dev. of 7 runs, 100 loops each)\n"
     ]
    }
   ],
   "source": [
    "list = [random.random() for i in range(500)]\n",
    "%timeit sort(list)"
   ]
  },
  {
   "cell_type": "code",
   "execution_count": 86,
   "id": "8cd6ca28",
   "metadata": {},
   "outputs": [
    {
     "name": "stdout",
     "output_type": "stream",
     "text": [
      "35.7 ms ± 585 µs per loop (mean ± std. dev. of 7 runs, 10 loops each)\n"
     ]
    }
   ],
   "source": [
    "list = [random.random() for i in range(1000)]\n",
    "%timeit sort(list)"
   ]
  },
  {
   "cell_type": "code",
   "execution_count": 87,
   "id": "e48c52e5",
   "metadata": {
    "scrolled": true
   },
   "outputs": [
    {
     "name": "stdout",
     "output_type": "stream",
     "text": [
      "900 ms ± 10.5 ms per loop (mean ± std. dev. of 7 runs, 1 loop each)\n"
     ]
    }
   ],
   "source": [
    "list = [random.random() for i in range(5000)]\n",
    "%timeit sort(list)"
   ]
  },
  {
   "cell_type": "code",
   "execution_count": 88,
   "id": "1a39d336",
   "metadata": {
    "scrolled": true
   },
   "outputs": [
    {
     "name": "stdout",
     "output_type": "stream",
     "text": [
      "3.83 s ± 15.9 ms per loop (mean ± std. dev. of 7 runs, 1 loop each)\n"
     ]
    }
   ],
   "source": [
    "list = [random.random() for i in range(10000)]\n",
    "%timeit sort(list)"
   ]
  },
  {
   "cell_type": "markdown",
   "id": "36f00d67",
   "metadata": {},
   "source": [
    "To interpret data collected from experiment we can plot with a simple line graph. <br> As you might notice the graph below looks closer to graph of $x^2$ than to any other type of graph (with more data points that would be more obvious). Which gives another intuition on why the complexity of *sort* algorithm is $O(n^2)$. "
   ]
  },
  {
   "cell_type": "code",
   "execution_count": 89,
   "id": "7b74c2f1",
   "metadata": {},
   "outputs": [
    {
     "data": {
      "image/png": "[encoded data removed]",
      "text/plain": [
       "<Figure size 432x288 with 1 Axes>"
      ]
     },
     "metadata": {
      "needs_background": "light"
     },
     "output_type": "display_data"
    }
   ],
   "source": [
    "%matplotlib inline\n",
    "import matplotlib.pyplot as plt\n",
    "y = [0.000408, 0.00843, 0.0343, 0.908, 3.79]\n",
    "\n",
    "plt.plot(y)\n",
    "plt.show()"
   ]
  },
  {
   "cell_type": "markdown",
   "id": "0e594900",
   "metadata": {},
   "source": [
    "## 4. Unit tests <a class=\"anchor\" id=\"chapter4\"></a>"
   ]
  },
  {
   "cell_type": "markdown",
   "id": "c7430edc",
   "metadata": {},
   "source": [
    "### 4.1 Test strategy <a class=\"anchor\" id=\"section_4_1\"></a>\n",
    "\n",
    "<ol>\n",
    "<li>Empty list, returns empty.</li>\n",
    "<li>List with one element, returns one same element.</li>\n",
    "<li>Sorted list, returns sorted list.</li>\n",
    "<li>List with non-negative numbers, returns sorted list (with same non-negative numbers).</li>  \n",
    "<li>List with negative numbers, returns sorted list (with same negative numbers).</li>  \n",
    "<li>List with integer numbers, returns sorted list (with same integer numbers).</li> \n",
    "<li>Large integers $x > 10^7$, returns sorted list (with same integer numbers).</li>   \n",
    "<li>List with large amount of integers $x >= 10^4$, returns sorted list (with same integer numbers).</li>  \n",
    "</ol>"
   ]
  },
  {
   "cell_type": "code",
   "execution_count": 90,
   "id": "0d9ca3e6",
   "metadata": {},
   "outputs": [],
   "source": [
    "def isEqual(result, expected):\n",
    "    return result==expected"
   ]
  },
  {
   "cell_type": "markdown",
   "id": "f51f8d7d",
   "metadata": {},
   "source": [
    "### 4.2 Tests for sorting algorithm <a class=\"anchor\" id=\"section_4_2\"></a>"
   ]
  },
  {
   "cell_type": "code",
   "execution_count": 91,
   "id": "466a2d10",
   "metadata": {
    "scrolled": true
   },
   "outputs": [
    {
     "data": {
      "text/plain": [
       "True"
      ]
     },
     "execution_count": 91,
     "metadata": {},
     "output_type": "execute_result"
    }
   ],
   "source": [
    "#Test case 1\n",
    "isEqual(sort([]),[])\n",
    "#Test case 2\n",
    "isEqual(sort([1]),[1])\n",
    "#Test case 3\n",
    "isEqual(sort([1,2,3]),[1,2,3])\n",
    "#Test case 4\n",
    "isEqual(sort([5,1,1,2,0,0]),[5,1,1,2,0,0]) \n",
    "#Test case 5\n",
    "isEqual(sort([-32145,-7,-67,-23,-444]),[-32145,-444,-67,-23,-7])\n",
    "#Test case 6.1\n",
    "isEqual(sort([34216,0,-1,1,-1,455,-4217261,99]),[-4217261,-1,-1,0,1,99,455,34216])\n",
    "#Test case 6.2\n",
    "isEqual(sort([0,0,0,-9,-99,-5,16,0,0,0]),[-99,-9,-5,0,0,0,0,0,0,16])\n",
    "#Test case 7\n",
    "isEqual(sort([3521763,12461120,-42152761,251672174]),[-42152761,3521763,12461120,251672174])\n",
    "#Test case 8\n",
    "list = [random.random() for i in range(10000)]\n",
    "reverseSortRes = sort(list)\n",
    "list.sort()\n",
    "isEqual(reverseSortRes,list)"
   ]
  },
  {
   "cell_type": "markdown",
   "id": "84b1272e",
   "metadata": {},
   "source": [
    "### 4.3 Tests for reverse function <a class=\"anchor\" id=\"section_4_3\"></a>"
   ]
  },
  {
   "cell_type": "code",
   "execution_count": 92,
   "id": "110f0824",
   "metadata": {
    "scrolled": true
   },
   "outputs": [
    {
     "data": {
      "text/plain": [
       "True"
      ]
     },
     "execution_count": 92,
     "metadata": {},
     "output_type": "execute_result"
    }
   ],
   "source": [
    "#Test case 1\n",
    "isEqual(reverse([],0),[])\n",
    "#Test case 2\n",
    "isEqual(reverse([1],1),[1])\n",
    "#Test case 3\n",
    "isEqual(reverse([1,2,3],2),[3,2,1])\n",
    "#Test case 4\n",
    "isEqual(reverse([5,1,1,2,0,0],3),[2,1,1,5,0,0]) \n",
    "#Test case 5\n",
    "isEqual(reverse([-32145,-7,-67,-23,-444],4),[-444,-23,-67,-7,-32145])"
   ]
  },
  {
   "cell_type": "markdown",
   "id": "d07cd1a6",
   "metadata": {},
   "source": [
    "### 4.4 Tests for findMax function <a class=\"anchor\" id=\"section_4_4\"></a>"
   ]
  },
  {
   "cell_type": "code",
   "execution_count": 93,
   "id": "d8642a84",
   "metadata": {},
   "outputs": [
    {
     "data": {
      "text/plain": [
       "True"
      ]
     },
     "execution_count": 93,
     "metadata": {},
     "output_type": "execute_result"
    }
   ],
   "source": [
    "#Test case 1\n",
    "isEqual(findMax([34216,0,-1,1,-1,455,-4217261,99],7),0)\n",
    "#Test case 2\n",
    "isEqual(findMax([0,0,0,-9,-99,-5,16,0,0,0],5),1)\n",
    "#Test case 3\n",
    "isEqual(findMax([3521763,12461120,-42152761,251672174],2),1)"
   ]
  }
 ],
 "metadata": {
  "kernelspec": {
   "display_name": "Python 3",
   "language": "python",
   "name": "python3"
  },
  "language_info": {
   "codemirror_mode": {
    "name": "ipython",
    "version": 3
   },
   "file_extension": ".py",
   "mimetype": "text/x-python",
   "name": "python",
   "nbconvert_exporter": "python",
   "pygments_lexer": "ipython3",
   "version": "3.8.8"
  }
 },
 "nbformat": 4,
 "nbformat_minor": 5
}
