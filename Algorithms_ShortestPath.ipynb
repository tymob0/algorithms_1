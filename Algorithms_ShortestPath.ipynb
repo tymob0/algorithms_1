{
 "cells": [
  {
   "cell_type": "markdown",
   "id": "162ef9d3",
   "metadata": {},
   "source": [
    "# Algorithms 1. Week 4. Five algorithms.\n",
    "### Bohdan Tymofieienko, B. S. \n",
    "#### btymofieienko@student.fontys.nl\n",
    "##### 13 March 2022"
   ]
  },
  {
   "cell_type": "markdown",
   "id": "b72c0cc4",
   "metadata": {},
   "source": [
    "## 1. Main algorithm. Shortest path"
   ]
  },
  {
   "cell_type": "markdown",
   "id": "63e1dc06",
   "metadata": {},
   "source": [
    "I chose shortest path problem because it has application in many fields. The task required to design and implement an algorithm for finding the shortest path from source vertex to all the others. This is often called as \"single-source shortest path\". One of the most famous algorithm for this case is Dijkstra algorithm.\n",
    "\n",
    "Dijkstra algorithm:\n",
    "\n",
    "1. Assign source distances to $1$.<br>\n",
    "2. Assign all the distances to $\\infty$.<br>\n",
    "3. For all the vertices that are adjacent to current pointer:<br>\n",
    "    3.1 Relax the edge to the vertex if path is shorter.<br>\n",
    "4. Find not visited vertex with the minimum distance and set it as current.<br>"
   ]
  },
  {
   "cell_type": "markdown",
   "id": "eaa7fb11",
   "metadata": {},
   "source": [
    "### 1.1 Dijkstra. Research."
   ]
  },
  {
   "cell_type": "markdown",
   "id": "88d0d520",
   "metadata": {},
   "source": [
    "Dijkstra is a greedy algorithm because it makes a *locally** optimal decision *(see step 4)* with the hope it will reach globally optimal solution at some point. However, as you might observe it doesn't use backtracking simply because there is no need in it. Import aspect is so called \"relaxation\". This is in essence the foundation and main operation in the algorithm. Relaxation is the process of a method that repeatedly decreases an upper bound on the actual shortest path weight of each vertex until the upper bound equivalent the shortest - path weigh *[1]*. It is important to remember that Dijkstra algorithm works only on non-negative weighted graphs."
   ]
  },
  {
   "cell_type": "markdown",
   "id": "5b0fa34e",
   "metadata": {},
   "source": [
    "### 1.2 Dijkstra. Implementation."
   ]
  },
  {
   "cell_type": "markdown",
   "id": "5e040619",
   "metadata": {},
   "source": [
    "First of all we need to design a graph data structure to model the graph itself. For this I defined two classes - edge and graph. Graph contains a list of edges and number of vertices as fields. It has one public method - add. This is done for convenience. However it also has two other private methods, one of them assures that graph stays connected and the other one prevents adding an edge with negative weight. As it was mentioned before these are important conditions for Dijkstra algorithm. "
   ]
  },
  {
   "cell_type": "code",
   "execution_count": 1,
   "id": "d865206a",
   "metadata": {},
   "outputs": [],
   "source": [
    "class Edge:\n",
    "  def __init__(self, origin, dest, weight):\n",
    "    self.origin = origin\n",
    "    self.dest = dest\n",
    "    self.weight = weight"
   ]
  },
  {
   "cell_type": "code",
   "execution_count": 2,
   "id": "3110573d",
   "metadata": {},
   "outputs": [],
   "source": [
    "class Graph:\n",
    "  def __init__(self):\n",
    "    self.edges = []\n",
    "    self.verticesNumber = 0\n",
    "    \n",
    "  def __isConnected(self, origin, dest):\n",
    "    if len(self.edges) != 0:\n",
    "      for e in self.edges:\n",
    "        if e.origin == origin or e.dest == dest or e.origin == dest or e.dest == origin:\n",
    "          return True\n",
    "      return False\n",
    "    else: return True\n",
    "  \n",
    "  def __isVertexNew(self, vertex):\n",
    "    for e in self.edges:\n",
    "        if e.origin == vertex or e.dest == vertex:\n",
    "          return False\n",
    "    return True\n",
    "  \n",
    "  def add(self,origin, dest, weight):\n",
    "    if weight > 0 and self.__isConnected(origin, dest):      \n",
    "      if self.__isVertexNew(origin):\n",
    "        self.verticesNumber+=1\n",
    "      if self.__isVertexNew(dest):\n",
    "        self.verticesNumber+=1\n",
    "      self.edges.append(Edge(origin, dest, weight))\n",
    "      "
   ]
  },
  {
   "cell_type": "markdown",
   "id": "03072eb0",
   "metadata": {},
   "source": [
    "There exist multiple implementations of Dijkstra. Most advance of them use priority queue to improve time complexity. I learned about that after designing the algorithm so you don't see this in my solution. However I do take this in consideration in analysis."
   ]
  },
  {
   "cell_type": "code",
   "execution_count": 3,
   "id": "d0f4d9e5",
   "metadata": {},
   "outputs": [],
   "source": [
    "def findMin(table, visited):\n",
    "  min = max(table, key = table.get)\n",
    "  for v in table:\n",
    "    if table[v] < table[min] and v not in visited:\n",
    "      min = v\n",
    "  return min   "
   ]
  },
  {
   "cell_type": "markdown",
   "id": "6c57d635",
   "metadata": {},
   "source": [
    "Going further, the algorithm it self. You may observe that I keep a table, which is essentially a list of pairs of the type (vertex, distance to vertex) and update it when needed. I use a dictionary comprehension to reduce amount of code. "
   ]
  },
  {
   "cell_type": "code",
   "execution_count": 4,
   "id": "67ba0a24",
   "metadata": {},
   "outputs": [],
   "source": [
    "def Dijkstra(graph, origin):\n",
    "  visited = []\n",
    "  table = {i:float('inf') for i in range(graph.verticesNumber)}\n",
    "  table[origin] = 0\n",
    "  current = origin\n",
    "  #repeat untill all vertices are visited\n",
    "  while len(visited) != graph.verticesNumber:\n",
    "    visited.append(current)\n",
    "    #find all possible edges from origin\n",
    "    for e in graph.edges:\n",
    "      if e.origin == current:\n",
    "        #if new path is shorter. Relaxation\n",
    "        if table[e.origin] + e.weight < table[e.dest]: \n",
    "          #update the table\n",
    "          table[e.dest] = table[e.origin] + e.weight\n",
    "    current = findMin(table, visited)\n",
    "  return table"
   ]
  },
  {
   "cell_type": "markdown",
   "id": "9994ec54",
   "metadata": {},
   "source": [
    "### 1.3 Dijkstra. Analysis."
   ]
  },
  {
   "cell_type": "markdown",
   "id": "1c009098",
   "metadata": {},
   "source": [
    "To compute the time complexity I will need to analyze the loop sequence. First of all we can see while loop. It will take exactly $O(|V|)$ to execute, where $|V|$ stands for amount of vertices. Then another loop comes in place. It is obvious that it runs $O(|E|)$, where $|E|$ stands for amount of edges. Additionally, *findMin()* function goes through all the elements in table so that's $O(|V|)$. This results in complexity for inner part of $O(|V| + |E|)$. Lastly we combine inner and outer part and the result complexity is $O(|V| \\times (|V| + |E|))$."
   ]
  },
  {
   "cell_type": "markdown",
   "id": "e08bb97c",
   "metadata": {},
   "source": [
    "#### 1.3.1 Dijkstra. Potential improvement."
   ]
  },
  {
   "cell_type": "markdown",
   "id": "dd51ab17",
   "metadata": {},
   "source": [
    "As I mentioned above there is an improvement potential for this implementation. In particular, using a priority queue data structure instead of using *findMin()* function has a positive effect on time complexity. It can get better up to $O(log(|V|) \\times (|V| + |E|))$ given we are using priority queue implemented with a Fibonacci heap."
   ]
  },
  {
   "cell_type": "markdown",
   "id": "4092faae",
   "metadata": {},
   "source": [
    "### 1.4 Dijkstra. Testing."
   ]
  },
  {
   "cell_type": "markdown",
   "id": "97592c66",
   "metadata": {},
   "source": [
    "I have attached the diagram with solved shortest path problem, and you can of course compare the results below. \n",
    "<div>\n",
    "<img src=\"Screenshot%202022-03-14%20110335.png\" width=\"500\"/>\n",
    "</div>"
   ]
  },
  {
   "cell_type": "code",
   "execution_count": 5,
   "id": "3b84a25b",
   "metadata": {},
   "outputs": [],
   "source": [
    "def isEqual(result, actual):\n",
    "  return result == actual"
   ]
  },
  {
   "cell_type": "code",
   "execution_count": 6,
   "id": "0edf7d87",
   "metadata": {},
   "outputs": [
    {
     "name": "stdout",
     "output_type": "stream",
     "text": [
      "{0: 0, 1: 1, 2: 3, 3: 2, 4: 7}\n"
     ]
    }
   ],
   "source": [
    "myGraph = Graph()\n",
    "\n",
    "myGraph.add(0, 1, 1)\n",
    "myGraph.add(1, 0, 1)\n",
    "\n",
    "myGraph.add(1, 3, 1)\n",
    "myGraph.add(3, 1, 1)\n",
    "\n",
    "myGraph.add(0, 2, 6)\n",
    "myGraph.add(2, 0, 6)\n",
    "\n",
    "myGraph.add(2, 1, 2)\n",
    "myGraph.add(1, 2, 2)\n",
    "\n",
    "myGraph.add(2, 3, 2)\n",
    "myGraph.add(3, 2, 2)\n",
    "\n",
    "myGraph.add(2, 4, 5)\n",
    "myGraph.add(4, 2, 5)\n",
    "\n",
    "myGraph.add(3, 4, 5)\n",
    "myGraph.add(4, 3, 5)\n",
    "\n",
    "print(Dijkstra(myGraph, 0))"
   ]
  },
  {
   "cell_type": "code",
   "execution_count": 7,
   "id": "044e1147",
   "metadata": {},
   "outputs": [
    {
     "data": {
      "text/plain": [
       "True"
      ]
     },
     "execution_count": 7,
     "metadata": {},
     "output_type": "execute_result"
    }
   ],
   "source": [
    "isEqual(Dijkstra(myGraph, 0), {0: 0, 1: 1, 2: 3, 3: 2, 4: 7})"
   ]
  },
  {
   "cell_type": "markdown",
   "id": "eae074bb",
   "metadata": {},
   "source": [
    "**Time measurement** "
   ]
  },
  {
   "cell_type": "code",
   "execution_count": null,
   "id": "5f559a02",
   "metadata": {},
   "outputs": [],
   "source": [
    "%%timeit\n",
    "Dijkstra(myGraph, 0)"
   ]
  },
  {
   "cell_type": "markdown",
   "id": "b3eceff2",
   "metadata": {},
   "source": [
    "## 2. The way out. Maze"
   ]
  },
  {
   "cell_type": "markdown",
   "id": "10eb5c0b",
   "metadata": {},
   "source": [
    "First of all I would model the maze in form two dimensional array. Since there are separators in form of \"1\" symbols (or walls) we can think of this matrix as of a graph. To find the shortest path it is enough to find the minimum amounts of \"0\" you follow to get to an end (\"2\"). There are multiple ways to approach it. However I propose to use a slightly modified BFS algorithm to find a solution. Algorithm consists of two parts - BFS and finding an actual sequence of steps to the end.\n",
    "\n",
    "This part propagate values decremented by 1 up to the end.\n",
    "Algorithm (Part 1):\n",
    "\n",
    "1. Assign START coordinates to pointer.<br>\n",
    "2. While value of a pointer is not 2 repeat:<br>\n",
    "    2.1 Decrement the value of a pointer by 1 <br>\n",
    "    2.2 Add all the pointer's neighbors which are \"0\" to the queue.<br>\n",
    "    2.3 Pop the first element from a queue and assign it to the pointer.<br>\n",
    "    \n",
    "Algorithm pseudocode (Part 1):\n",
    "1. pointer = start.<br>\n",
    "2. while not valueOf(pointer) == 2:<br>\n",
    "    2.1 valueOf(pointer) = valueOf(pointer) - 1<br>\n",
    "    2.2 forall neighbors n : if n == 0 then queue.push(n) <br>\n",
    "    2.3 pointer = queue.pop()<br>\n",
    "    \n",
    "This part backtracks the shortest path by the use of modified matrix from part 1.    \n",
    "Algorithm (Part 2):  \n",
    "1. Loop through neighbors of the END to find the minimum one.<br>\n",
    "2. Assign it coordinates to pointer.<br>   \n",
    "3. While value of a pointer is not -1 repeat:<br>\n",
    "   3.1. Add it to the front of path array.<br>\n",
    "   3.2. Loop through neighbors of the pointer to find value less by one from pointer's value.<br>\n",
    "   3.3. Assign it to pointer.<br>\n",
    "   \n",
    "Algorithm pseudocode (Part 2):\n",
    "1. pointer = END <br>\n",
    "2. path = []\n",
    "3. while not valueOf(pointer) == -1:<br>\n",
    "    3.1 path.addToFront(pointer)\n",
    "    3.2 neighbors = []\n",
    "    3.3 forall n : if adjacent(n,pointer) then neighbors.add(n)<br>\n",
    "    3.4 pointer = min(getNeighbours(END))<br>\n",
    "4. return path    \n",
    "    \n",
    "It is important to decrement and not increment to not coincide with 1 (wall) or 2 (end). The magnitude, however, is not affected by that. For example path of -9 can be interpreted as path of 9.\n",
    "\n",
    "<div>\n",
    "<img src=\"maze.jpg\" width=\"500\"/>\n",
    "</div>"
   ]
  },
  {
   "cell_type": "markdown",
   "id": "70a63adb",
   "metadata": {},
   "source": [
    "## 3. Cryptarythmetic puzzle"
   ]
  },
  {
   "cell_type": "markdown",
   "id": "2cd1cc26",
   "metadata": {},
   "source": [
    "For this one there might exist multiple ways to solve it. Of course basic brute force with many for loops is possible. However it is extremely inefficient so we won't even consider it. Relatively optimal, however, is backtracking approach. The basic idea could be to have a set of possible characters and obviously the mechanism to verify if the arrangement worked. First of all we will need to place them consecutively as they are in the set. In the case arrangement didn't work we shall try unassign last n elements and try other. The algorithm could look like following: \n",
    "\n",
    "1. Assign not used value from the set consecutively with regard to some set of conditions* <br>\n",
    "2. If arrangement worked then return arrangement<br>\n",
    "3. Else unassign last n elements and call the function again.<br>\n",
    "4. If there are no combinations left return false.\n",
    "\n",
    "'*' - Of course there exist multiple optimizations that will speed up the solution. For example left most character cannot be 0. I can also think of something like a carry. By making all these observations it is possible to make a certain set of constraints that will later on \"cut of\" impossible branches from decision space and save time."
   ]
  },
  {
   "cell_type": "markdown",
   "id": "6766da2f",
   "metadata": {},
   "source": [
    "## 4. From X to Y"
   ]
  },
  {
   "cell_type": "markdown",
   "id": "576ad54b",
   "metadata": {},
   "source": [
    "To solve this problem correctly we have to consider all the possible outcomes of operations we apply. Only then we can conclude that amount of steps is minimal. Unless there might exist some sort of a formula for these three particular operation, but we will not take that in consideration since it defeats the purpose of the problem. So my approach would be to start at X and try to apply all possible operations. After that however we have to keep applying the rule until we get to our result. In this way we construct a tree of possible operations and operations on their outcomes. This can be done with the BFS algorithm. As soon as we reach the result we can stop, this means we found the minimal sequence. (Keep going won't make any sense because amount of steps will increase). Also, we can be really sure that we found a minimal amount of steps since we literally tried all the possible cases. One thing can be to keep track of resulting numbers in order to avoid problem of having loops, since tree can't have loops.\n",
    "\n",
    "1. Create a root. (X value) <br>\n",
    "2. Enqueue the root and type of operation. <br>\n",
    "3. While queue is not empty: <br>\n",
    "    3.1 Dequeue the last element  <br>\n",
    "    3.2 If element is equal to Y then break <br>\n",
    "    3.3 Apply all the operations. <br>\n",
    "    3.4 Enqueue the results. <br>\n",
    "4. Backtrack the sequence and return it. <br>\n"
   ]
  },
  {
   "cell_type": "markdown",
   "id": "1cb8b500",
   "metadata": {},
   "source": [
    "## 5. Longest Common Subsequence "
   ]
  },
  {
   "cell_type": "markdown",
   "id": "660a4fa0",
   "metadata": {},
   "source": [
    "This problem can be solved in a very primitive way by generating all the possible subsets of both string and then comparing them. However, this is absolutely inefficient. Dynamic programming can help in solving it appropriately. In particular, we can solve break it down up to trivial problem by assuming three possible scenarios. Scenario one states that both strings end with the same character. From that we can make an important conclusion, this means that now the LCS of both strings is LCS of reduced by 1 strings + last common character. We can recursively repeat that until we get both string have length 0, however there might occur the situation when they don't end with the same character. However, in this case we can still benefit because we now for sure that LCS does not end with one of these so we can reject another one.\n",
    "\n",
    "Algorithm:\n",
    "Consider there are two strings A and B with lengths m and n respectively, then\n",
    "\n",
    "LCS(A,B):\n",
    "1. If m is 0 or n is 0 then return <br>\n",
    "2. Else if A[m] is equal to B[n] then return LCS(A[m-1], B[n-1]) <br>\n",
    "3. Else return maximum(LCS(A[m-1],B[n]),LCS(A[m],B[n-1]))<br>\n",
    "    \n"
   ]
  },
  {
   "cell_type": "markdown",
   "id": "12bb5c66",
   "metadata": {},
   "source": [
    "## 6. Literature."
   ]
  },
  {
   "cell_type": "markdown",
   "id": "372a6c20",
   "metadata": {},
   "source": [
    "[1] Relaxation. https://www.javatpoint.com/relaxation<br>"
   ]
  }
 ],
 "metadata": {
  "kernelspec": {
   "display_name": "Python 3",
   "language": "python",
   "name": "python3"
  },
  "language_info": {
   "codemirror_mode": {
    "name": "ipython",
    "version": 3
   },
   "file_extension": ".py",
   "mimetype": "text/x-python",
   "name": "python",
   "nbconvert_exporter": "python",
   "pygments_lexer": "ipython3",
   "version": "3.8.8"
  }
 },
 "nbformat": 4,
 "nbformat_minor": 5
}
